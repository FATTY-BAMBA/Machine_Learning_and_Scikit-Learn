{
 "cells": [
  {
   "cell_type": "markdown",
   "metadata": {},
   "source": [
    "### Regrerssion Accuracy Check Using Various Performance Measurses (MAE, MSE, RMSE, R-Squared) in Python\n",
    "Several accuracy metrics are used in machine learning to evaluate the performance of predictive models. For regression models, the basis of accuracy evaluation is by comparing the original target with predicted values by applying metrics like Mean Average Error (MAE), Mean Square Error (MSE), Root Mean Square Error (RMSE), and R-Squared to explain the errors and the predictive ability of the model. \n",
    "\n",
    "Herein, we will briefly discuss how to evalaute the accuracy of regression models by using the above-mentioned metrics in python. This post includes \n",
    "\n",
    "1. Regression accuray metrics\n",
    "2. Data preparation \n",
    "3. Metrics evaluation using formula\n",
    "4. Metrics evaluation using sklearn.metrics\n",
    "\n",
    "\n"
   ]
  },
  {
   "cell_type": "markdown",
   "metadata": {},
   "source": [
    "### Regression accuray metrics\n",
    "MAE, MSE, RMSE, R-Squared are the most widely used metrics to estimate the prediction error rates and model performance for regression models. \n",
    "\n",
    "* **Mean Absolute Error (MAE)**\n",
    "is the average of all absolute errors. Where absolute error is the amount of error between the  original and predicted values. \n",
    "\n",
    "\n",
    "* **Mean Squared Error (MSE)** is the average squared difference between the predicted and original values.\n",
    "\n",
    "\n",
    "* **Root Mean Square Error (RMSE)** is the square root of the average of squared differences between prediction and original values.\n",
    "\n",
    "\n",
    "* **R-squared (Coefficient of determination)** represents the coefficient of how well the values fit when compared to the original values. R-squared ranges from 0 to 1 and the higher the value the better the model.\n",
    "\n",
    "The metrics can be expressed as...\n",
    "\n",
    "$$ MAE = \\frac{1}{N} \\sum_{i=1}^N |y - y^*| $$\n",
    "\n",
    "$$ MSE = \\frac{1}{N} \\sum_{i=1}^N (y - y^*)^2 $$\n",
    "\n",
    "$$ RMSE = \\sqrt{MSE} = \\sqrt{\\frac{1}{N} \\sum_{i=1}^N (y - y^*)^2} $$\n",
    "\n",
    "$$R^2 = 1 - \\frac{\\sum(y - y^*)^2}{\\sum(y^* - y')^2} $$\n",
    "\n",
    "\n",
    "where, $y$, $y^*$, and $y'$ are the target value, the predicted value, and the mean value, respectively. "
   ]
  },
  {
   "cell_type": "markdown",
   "metadata": {},
   "source": [
    "### Data Preparation \n",
    "The original (target) value of y herein represented as $y$, and the predicted value of y herein represented as y_pred, are the main sources of data for model evaluation. We will create sample values for $y$ and y_pred as well as importing the required modules for performance evaluation as shown below"
   ]
  },
  {
   "cell_type": "code",
   "execution_count": 1,
   "metadata": {},
   "outputs": [
    {
     "data": {
      "image/png": "[encoded data removed]",
      "text/plain": [
       "<Figure size 432x288 with 1 Axes>"
      ]
     },
     "metadata": {
      "needs_background": "light"
     },
     "output_type": "display_data"
    }
   ],
   "source": [
    "import numpy as np\n",
    "import sklearn.metrics as metrics \n",
    "import matplotlib.pyplot as plt\n",
    "\n",
    "\n",
    "y = np.array([-3,1,2,1,0,2,3,5,6.5,6])\n",
    "y_pred = np.array([-2.5, 2, 1.5, 1,0,2,3.5,4.5,6,5.4])\n",
    "\n",
    "x = list(range(len(y)))\n",
    "\n",
    "# plot y and y_pred to visualize the different\n",
    "\n",
    "plt.scatter(x, y, color=\"blue\", label=\"original\")\n",
    "plt.plot(x, y_pred, color=\"red\", label=\"predicted\")\n",
    "plt.legend()\n",
    "plt.show() "
   ]
  },
  {
   "cell_type": "markdown",
   "metadata": {},
   "source": [
    "### Performance evaluation using formulas \n",
    "By using the various formulas MAE, MSE, and RMSE we can evaluate the performance measurses in python."
   ]
  },
  {
   "cell_type": "code",
   "execution_count": 2,
   "metadata": {},
   "outputs": [
    {
     "name": "stdout",
     "output_type": "stream",
     "text": [
      "Results by manual calculation:\n",
      "MAE: 0.41\n",
      "MSE: 0.26099999999999995\n",
      "RMSE: 0.510881590977792\n",
      "R-Squared: 0.9656691877671819\n"
     ]
    }
   ],
   "source": [
    "# calculate performance measurses manually\n",
    "y_d = y - y_pred\n",
    "mse_m = np.mean(y_d**2)\n",
    "mae_m = np.mean(abs(y_d))\n",
    "rmse_m = np.sqrt(mse_m)\n",
    "r2_m = 1-(sum(y_d**2)/sum((y-np.mean(y))**2))\n",
    "\n",
    "print(\"Results by manual calculation:\")\n",
    "print(\"MAE:\",mae_m)\n",
    "print(\"MSE:\", mse_m)\n",
    "print(\"RMSE:\", rmse_m)\n",
    "print(\"R-Squared:\", r2_m)"
   ]
  },
  {
   "cell_type": "markdown",
   "metadata": {},
   "source": [
    "### Metrics calculation by sklearn.metrics\n",
    "\n",
    "Next we look at how we can use sklearn to evalaute the performance of regression models. The metrics can be calculate using sklearn metrics function..."
   ]
  },
  {
   "cell_type": "code",
   "execution_count": 3,
   "metadata": {},
   "outputs": [
    {
     "name": "stdout",
     "output_type": "stream",
     "text": [
      "Results of sklearn.metrics:\n",
      "MAE: 0.41\n",
      "MSE: 0.26099999999999995\n",
      "RMSE: 0.510881590977792\n",
      "R-Squared: 0.9656691877671819\n"
     ]
    }
   ],
   "source": [
    "from sklearn.metrics import mean_absolute_error, mean_squared_error, r2_score\n",
    "mae = mean_absolute_error(y, y_pred)\n",
    "mse = mean_squared_error(y, y_pred)\n",
    "rmse = np.sqrt(mse) # or mse**(0.5)  \n",
    "r2 = metrics.r2_score(y,y_pred)\n",
    "\n",
    "print(\"Results of sklearn.metrics:\")\n",
    "print(\"MAE:\",mae)\n",
    "print(\"MSE:\", mse)\n",
    "print(\"RMSE:\", rmse)\n",
    "print(\"R-Squared:\", r2)"
   ]
  },
  {
   "cell_type": "markdown",
   "metadata": {},
   "source": [
    "### \n",
    "As demonstrated above the results are the same in both cases. One can use either of these methods to evalaute the performance measures of a regression model.\n",
    "\n",
    "In this post we demonstrate how various performance measures including MAE, MSE, RMSE, and R-squared can be use to evalaute the performance of regression moldels."
   ]
  },
  {
   "cell_type": "code",
   "execution_count": null,
   "metadata": {},
   "outputs": [],
   "source": []
  }
 ],
 "metadata": {
  "kernelspec": {
   "display_name": "Python 3",
   "language": "python",
   "name": "python3"
  },
  "language_info": {
   "codemirror_mode": {
    "name": "ipython",
    "version": 3
   },
   "file_extension": ".py",
   "mimetype": "text/x-python",
   "name": "python",
   "nbconvert_exporter": "python",
   "pygments_lexer": "ipython3",
   "version": "3.8.5"
  }
 },
 "nbformat": 4,
 "nbformat_minor": 4
}
