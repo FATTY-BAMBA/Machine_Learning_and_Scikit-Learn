{
 "cells": [
  {
   "cell_type": "markdown",
   "id": "7baf950b",
   "metadata": {},
   "source": [
    "## Hyperparameter Tuning using Evolutionary Algorithms\n",
    "Hyperparameter tuning is an essentail part of machine learning. It is  an integral step in building accurate machine learning model. Since the hyperparameters determine the model architecture it is important to use the optimal hyperparameters for best performance, this can be achieved through hyperparameter tuning. Grid Search method and Randomized search method are the two mostly widely used hyperparameter tuning techinques. \n",
    "\n",
    "Herein we demonstrate the use of evolutionary algorithm (GA) to perform hyperparameter tuning in sklearn. \n",
    "\n",
    "Most evolutionary algorithms start with a population of individuals and each individual represents a set of hyperparameters to use in our machine learning mode. By using some mechanisms that try to emulate the way populations evolve, the algorithm reproduces, mutates, and selects new hyperparameters based on the results of the already tested parameters, using some kind of metric to define its fitness (for example, the cross-validation accuracy) and repeats this process over several generations of individuals."
   ]
  },
  {
   "cell_type": "code",
   "execution_count": 1,
   "id": "4d8eb2b0",
   "metadata": {},
   "outputs": [
    {
     "name": "stdout",
     "output_type": "stream",
     "text": [
      "Types [1, 2, 2] and maxint [1, 9, 3] detected\n",
      "--- Evolve in 80 possible combinations ---\n",
      "gen\tnevals\tavg     \tmin     \tmax     \tstd      \n",
      "0  \t50    \t0.941758\t0.916484\t0.958242\t0.0126273\n",
      "1  \t32    \t0.952352\t0.931868\t0.958242\t0.00611353\n",
      "2  \t28    \t0.95556 \t0.947253\t0.958242\t0.00302276\n",
      "3  \t23    \t0.957626\t0.953846\t0.958242\t0.00152522\n",
      "4  \t30    \t0.957363\t0.947253\t0.958242\t0.00244737\n",
      "5  \t24    \t0.957802\t0.949451\t0.958242\t0.00158486\n",
      "6  \t22    \t0.958066\t0.953846\t0.958242\t0.000861359\n",
      "7  \t33    \t0.956747\t0.947253\t0.958242\t0.00330227 \n",
      "8  \t28    \t0.957714\t0.949451\t0.958242\t0.00167726 \n",
      "9  \t27    \t0.957758\t0.942857\t0.958242\t0.00229626 \n",
      "10 \t30    \t0.957275\t0.934066\t0.958242\t0.00403247 \n",
      "Best individual is: {'kernel': 'linear', 'C': 1.0, 'gamma': 0.0001}\n",
      "with fitness: 0.9582417582417583\n"
     ]
    }
   ],
   "source": [
    "from sklearn import datasets\n",
    "from sklearn.model_selection import train_test_split\n",
    "import pandas as pd\n",
    "from sklearn.svm import SVC\n",
    "from sklearn.model_selection import StratifiedKFold\n",
    "import numpy as np\n",
    "import random\n",
    "\n",
    "dataset = datasets.load_breast_cancer()\n",
    "\n",
    "X = dataset.data\n",
    "Y = dataset.target\n",
    "\n",
    "# split the dataset in training set and testing set using train_test_split\n",
    "X_train, X_test, y_train, y_test = train_test_split(X, Y, test_size=0.2, random_state = 0)\n",
    "\n",
    "\n",
    "# parameter range \n",
    "paramgrid = {\"kernel\": [\"rbf\", \"linear\"],\n",
    "             \"C\"     : np.logspace(0, 3, num=10),\n",
    "             \"gamma\" : np.logspace(-4, -3, num=4)}\n",
    "\n",
    "random.seed(1)\n",
    "\n",
    "\n",
    "from evolutionary_search import EvolutionaryAlgorithmSearchCV\n",
    "cv = EvolutionaryAlgorithmSearchCV(estimator=SVC(),\n",
    "                                   params=paramgrid,\n",
    "                                   scoring=\"accuracy\",\n",
    "                                   cv=StratifiedKFold(n_splits=4),\n",
    "                                   verbose=1,\n",
    "                                   population_size=50,\n",
    "                                   gene_mutation_prob=0.10,\n",
    "                                   gene_crossover_prob=0.5,\n",
    "                                   tournament_size=3,\n",
    "                                   generations_number=10,\n",
    "                                   n_jobs=1)\n",
    "cv.fit(X_train, y_train)"
   ]
  },
  {
   "cell_type": "code",
   "execution_count": 3,
   "id": "4412204c",
   "metadata": {},
   "outputs": [
    {
     "data": {
      "text/plain": [
       "['__abstractmethods__',\n",
       " '__class__',\n",
       " '__delattr__',\n",
       " '__dict__',\n",
       " '__dir__',\n",
       " '__doc__',\n",
       " '__eq__',\n",
       " '__format__',\n",
       " '__ge__',\n",
       " '__getattribute__',\n",
       " '__getstate__',\n",
       " '__gt__',\n",
       " '__hash__',\n",
       " '__init__',\n",
       " '__init_subclass__',\n",
       " '__le__',\n",
       " '__lt__',\n",
       " '__module__',\n",
       " '__ne__',\n",
       " '__new__',\n",
       " '__reduce__',\n",
       " '__reduce_ex__',\n",
       " '__repr__',\n",
       " '__setattr__',\n",
       " '__setstate__',\n",
       " '__sizeof__',\n",
       " '__str__',\n",
       " '__subclasshook__',\n",
       " '__weakref__',\n",
       " '_abc_impl',\n",
       " '_check_is_fitted',\n",
       " '_check_n_features',\n",
       " '_check_refit_for_multimetric',\n",
       " '_cv_results',\n",
       " '_estimator_type',\n",
       " '_fit',\n",
       " '_format_results',\n",
       " '_get_param_names',\n",
       " '_get_tags',\n",
       " '_individual_evals',\n",
       " '_more_tags',\n",
       " '_pairwise',\n",
       " '_repr_html_',\n",
       " '_repr_html_inner',\n",
       " '_repr_mimebundle_',\n",
       " '_required_parameters',\n",
       " '_run_search',\n",
       " '_validate_data',\n",
       " 'all_history_',\n",
       " 'all_logbooks_',\n",
       " 'best_estimator_',\n",
       " 'best_index_',\n",
       " 'best_mem_params_',\n",
       " 'best_mem_score_',\n",
       " 'best_params_',\n",
       " 'best_score_',\n",
       " 'classes_',\n",
       " 'cv',\n",
       " 'cv_results_',\n",
       " 'decision_function',\n",
       " 'error_score',\n",
       " 'estimator',\n",
       " 'fit',\n",
       " 'fit_params',\n",
       " 'gene_crossover_prob',\n",
       " 'gene_mutation_prob',\n",
       " 'gene_type',\n",
       " 'generations_number',\n",
       " 'get_params',\n",
       " 'iid',\n",
       " 'inverse_transform',\n",
       " 'n_features_in_',\n",
       " 'n_jobs',\n",
       " 'params',\n",
       " 'population_size',\n",
       " 'possible_params',\n",
       " 'pre_dispatch',\n",
       " 'predict',\n",
       " 'predict_log_proba',\n",
       " 'predict_proba',\n",
       " 'refit',\n",
       " 'return_train_score',\n",
       " 'score',\n",
       " 'score_cache',\n",
       " 'score_samples',\n",
       " 'scorer_',\n",
       " 'scoring',\n",
       " 'set_params',\n",
       " 'tournament_size',\n",
       " 'transform',\n",
       " 'verbose']"
      ]
     },
     "execution_count": 3,
     "metadata": {},
     "output_type": "execute_result"
    }
   ],
   "source": [
    "dir(cv)"
   ]
  },
  {
   "cell_type": "code",
   "execution_count": 4,
   "id": "dea941be",
   "metadata": {},
   "outputs": [
    {
     "data": {
      "text/plain": [
       "{'kernel': 'linear', 'C': 1.0, 'gamma': 0.0001}"
      ]
     },
     "execution_count": 4,
     "metadata": {},
     "output_type": "execute_result"
    }
   ],
   "source": [
    "cv.best_params_"
   ]
  },
  {
   "cell_type": "code",
   "execution_count": 5,
   "id": "2ed3e944",
   "metadata": {},
   "outputs": [
    {
     "data": {
      "text/plain": [
       "0.9582417582417583"
      ]
     },
     "execution_count": 5,
     "metadata": {},
     "output_type": "execute_result"
    }
   ],
   "source": [
    "cv.best_score_"
   ]
  },
  {
   "cell_type": "code",
   "execution_count": null,
   "id": "40ca8920",
   "metadata": {},
   "outputs": [],
   "source": []
  }
 ],
 "metadata": {
  "kernelspec": {
   "display_name": "Python 3 (ipykernel)",
   "language": "python",
   "name": "python3"
  },
  "language_info": {
   "codemirror_mode": {
    "name": "ipython",
    "version": 3
   },
   "file_extension": ".py",
   "mimetype": "text/x-python",
   "name": "python",
   "nbconvert_exporter": "python",
   "pygments_lexer": "ipython3",
   "version": "3.9.7"
  }
 },
 "nbformat": 4,
 "nbformat_minor": 5
}
